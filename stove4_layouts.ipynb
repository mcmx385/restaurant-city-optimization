{
 "cells": [
  {
   "cell_type": "code",
   "execution_count": 6,
   "metadata": {},
   "outputs": [],
   "source": [
    "import pandas as pd\n",
    "import numpy as np\n",
    "import matplotlib.pyplot as plt\n",
    "from helpers.layouts import get_all_count, max_area_distance, max_stove2table_distance, avg_stock2table_distance, add_to_counter, get_max_counter\n",
    "from layouts.stove4_layouts import all_setup\n"
   ]
  },
  {
   "cell_type": "code",
   "execution_count": 7,
   "metadata": {},
   "outputs": [
    {
     "name": "stdout",
     "output_type": "stream",
     "text": [
      "(4, 16, 0, 12)\n",
      "3.0\n",
      "5.0\n",
      "3.4594361206796567\n"
     ]
    }
   ],
   "source": [
    "print(get_all_count(all_setup[0]))\n",
    "print(max_area_distance(all_setup[0]))\n",
    "print(max_stove2table_distance(all_setup[0]))\n",
    "print(avg_stock2table_distance(all_setup[0]))\n"
   ]
  },
  {
   "cell_type": "code",
   "execution_count": 8,
   "metadata": {},
   "outputs": [],
   "source": [
    "all_max_area_distance = []\n",
    "all_max_stove2table_distance = []\n",
    "all_avg_stock2table_distance = []\n",
    "all_table = []\n",
    "\n",
    "for setup in all_setup:\n",
    "    all_max_area_distance.append(max_area_distance(setup))\n",
    "    all_max_stove2table_distance.append(max_stove2table_distance(setup))\n",
    "    all_avg_stock2table_distance.append(avg_stock2table_distance(setup))\n",
    "    all_table.append(get_all_count(setup)[1])\n"
   ]
  },
  {
   "cell_type": "code",
   "execution_count": null,
   "metadata": {},
   "outputs": [],
   "source": [
    "print(all_max_area_distance)\n",
    "print(all_max_stove2table_distance)\n",
    "print(all_avg_stock2table_distance)\n",
    "print(all_table)\n"
   ]
  },
  {
   "cell_type": "code",
   "execution_count": 9,
   "metadata": {},
   "outputs": [
    {
     "name": "stdout",
     "output_type": "stream",
     "text": [
      "Min Max area distance winner: 3\n",
      "Min Max stove2table distance winner: 3\n",
      "Min Avg stock2table distance winner: 1\n",
      "Max table winner: 0\n",
      "Counter: {3: 2, 1: 1, 0: 1}\n"
     ]
    }
   ],
   "source": [
    "counter = {}\n",
    "\n",
    "max_area_distance_winner = np.argmin(all_max_area_distance)\n",
    "add_to_counter(counter, max_area_distance_winner)\n",
    "print(f'Min Max area distance winner: {max_area_distance_winner}')\n",
    "\n",
    "max_stove2table_distance_winner = np.argmin(all_max_stove2table_distance)\n",
    "add_to_counter(counter, max_stove2table_distance_winner)\n",
    "print(f'Min Max stove2table distance winner: {max_stove2table_distance_winner}')\n",
    "\n",
    "avg_stock2table_distance_winner = np.argmin(all_avg_stock2table_distance)\n",
    "add_to_counter(counter, avg_stock2table_distance_winner)\n",
    "print(f'Min Avg stock2table distance winner: {avg_stock2table_distance_winner}')\n",
    "\n",
    "all_table_winner = np.argmax(all_table)\n",
    "add_to_counter(counter, all_table_winner)\n",
    "print(f'Max table winner: {all_table_winner}')\n",
    "\n",
    "print(f'Counter: {counter}')\n"
   ]
  },
  {
   "cell_type": "code",
   "execution_count": 10,
   "metadata": {},
   "outputs": [
    {
     "name": "stdout",
     "output_type": "stream",
     "text": [
      "Max winner: 3\n",
      "Winner: \n",
      "[['T' 'T' 'T' 'S' 'S' 'T' 'T' 'T']\n",
      " ['T' 'A' 'A' 'A' 'A' 'A' 'A' 'T']\n",
      " ['T' 'A' 'A' 'A' 'A' 'A' 'A' 'T']\n",
      " ['T' 'T' 'T' 'S' 'S' 'T' 'T' 'T']]\n",
      "Winner table: 16\n",
      "Winner max area distance: 1.0\n",
      "Winner max stove2table distance: 4.242640687119285\n",
      "Winner avg stock2table distance: 3.561968874623777\n"
     ]
    }
   ],
   "source": [
    "max_counter = get_max_counter(counter)\n",
    "print(f'Max winner: {max_counter}')\n",
    "print(f'Winner: \\n{np.matrix(all_setup[max_counter])}')\n",
    "print(f'Winner table: {all_table[max_counter]}')\n",
    "print(f'Winner max area distance: {all_max_area_distance[max_counter]}')\n",
    "print(f'Winner max stove2table distance: {all_max_stove2table_distance[max_counter]}')\n",
    "print(f'Winner avg stock2table distance: {all_avg_stock2table_distance[max_counter]}')\n"
   ]
  },
  {
   "cell_type": "code",
   "execution_count": null,
   "metadata": {},
   "outputs": [],
   "source": []
  }
 ],
 "metadata": {
  "kernelspec": {
   "display_name": "Python 3.9.9 ('venv': venv)",
   "language": "python",
   "name": "python3"
  },
  "language_info": {
   "codemirror_mode": {
    "name": "ipython",
    "version": 3
   },
   "file_extension": ".py",
   "mimetype": "text/x-python",
   "name": "python",
   "nbconvert_exporter": "python",
   "pygments_lexer": "ipython3",
   "version": "3.9.9"
  },
  "orig_nbformat": 4,
  "vscode": {
   "interpreter": {
    "hash": "b4d61477c7b3c1746d518ce1f7d9316bf96a5943f319a9152a843d3cbc28d158"
   }
  }
 },
 "nbformat": 4,
 "nbformat_minor": 2
}
