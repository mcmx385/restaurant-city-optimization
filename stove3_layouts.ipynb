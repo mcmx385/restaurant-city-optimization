{
 "cells": [
  {
   "cell_type": "code",
   "execution_count": 12,
   "metadata": {},
   "outputs": [],
   "source": [
    "import pandas as pd\n",
    "import numpy as np\n",
    "import matplotlib.pyplot as plt\n",
    "from helpers.layouts import get_all_count, max_area_distance, max_stove2table_distance, avg_stock2table_distance, add_to_counter, get_max_counter\n",
    "from layouts.stove3_layouts import all_setup\n"
   ]
  },
  {
   "cell_type": "code",
   "execution_count": 13,
   "metadata": {},
   "outputs": [
    {
     "name": "stdout",
     "output_type": "stream",
     "text": [
      "(3, 11, 4)\n",
      "0.0\n",
      "3.605551275463989\n",
      "2.6962213205955687\n"
     ]
    }
   ],
   "source": [
    "print(get_all_count(all_setup[0]))\n",
    "print(max_area_distance(all_setup[0]))\n",
    "print(max_stove2table_distance(all_setup[0]))\n",
    "print(avg_stock2table_distance(all_setup[0]))\n"
   ]
  },
  {
   "cell_type": "code",
   "execution_count": 14,
   "metadata": {},
   "outputs": [],
   "source": [
    "all_max_area_distance = []\n",
    "all_max_stove2table_distance = []\n",
    "all_avg_stock2table_distance = []\n",
    "all_table = []\n",
    "\n",
    "for setup in all_setup:\n",
    "    all_max_area_distance.append(max_area_distance(setup))\n",
    "    all_max_stove2table_distance.append(max_stove2table_distance(setup))\n",
    "    all_avg_stock2table_distance.append(avg_stock2table_distance(setup))\n",
    "    all_table.append(get_all_count(setup)[0])\n"
   ]
  },
  {
   "cell_type": "code",
   "execution_count": 15,
   "metadata": {},
   "outputs": [
    {
     "name": "stdout",
     "output_type": "stream",
     "text": [
      "Min Max area distance winner: 0\n",
      "Min Max stove2table distance winner: 1\n",
      "Min Avg stock2table distance winner: 2\n",
      "Max table winner: 0\n",
      "Counter: {0: 2, 1: 1, 2: 1}\n"
     ]
    }
   ],
   "source": [
    "counter = {}\n",
    "\n",
    "max_area_distance_winner = np.argmin(all_max_area_distance)\n",
    "add_to_counter(counter, max_area_distance_winner)\n",
    "print(f'Min Max area distance winner: {max_area_distance_winner}')\n",
    "\n",
    "max_stove2table_distance_winner = np.argmin(all_max_stove2table_distance)\n",
    "add_to_counter(counter, max_stove2table_distance_winner)\n",
    "print(f'Min Max stove2table distance winner: {max_stove2table_distance_winner}')\n",
    "\n",
    "avg_stock2table_distance_winner = np.argmin(all_avg_stock2table_distance)\n",
    "add_to_counter(counter, avg_stock2table_distance_winner)\n",
    "print(f'Min Avg stock2table distance winner: {avg_stock2table_distance_winner}')\n",
    "\n",
    "all_table_winner = np.argmin(all_table)\n",
    "add_to_counter(counter, all_table_winner)\n",
    "print(f'Max table winner: {all_table_winner}')\n",
    "\n",
    "print(f'Counter: {counter}')\n"
   ]
  },
  {
   "cell_type": "code",
   "execution_count": 16,
   "metadata": {},
   "outputs": [
    {
     "name": "stdout",
     "output_type": "stream",
     "text": [
      "Max winner: 0\n",
      "Winner: [['T', 'T', 'S', 'S', 'T', 'T'], ['T', 'A', 'A', 'A', 'A', 'T'], ['T', 'T', 'T', 'S', 'T', 'T']]\n",
      "Winner table: 3\n",
      "Winner max area distance: 0.0\n",
      "Winner max stove2table distance: 3.605551275463989\n",
      "Winner avg stock2table distance: 2.6962213205955687\n"
     ]
    }
   ],
   "source": [
    "max_counter = get_max_counter(counter)\n",
    "print(f'Max winner: {max_counter}')\n",
    "print(f'Winner: {all_setup[max_counter]}')\n",
    "print(f'Winner table: {all_table[max_counter]}')\n",
    "print(f'Winner max area distance: {all_max_area_distance[max_counter]}')\n",
    "print(f'Winner max stove2table distance: {all_max_stove2table_distance[max_counter]}')\n",
    "print(f'Winner avg stock2table distance: {all_avg_stock2table_distance[max_counter]}')\n"
   ]
  },
  {
   "cell_type": "code",
   "execution_count": null,
   "metadata": {},
   "outputs": [],
   "source": []
  }
 ],
 "metadata": {
  "kernelspec": {
   "display_name": "Python 3.9.9 ('venv': venv)",
   "language": "python",
   "name": "python3"
  },
  "language_info": {
   "codemirror_mode": {
    "name": "ipython",
    "version": 3
   },
   "file_extension": ".py",
   "mimetype": "text/x-python",
   "name": "python",
   "nbconvert_exporter": "python",
   "pygments_lexer": "ipython3",
   "version": "3.9.9"
  },
  "orig_nbformat": 4,
  "vscode": {
   "interpreter": {
    "hash": "b4d61477c7b3c1746d518ce1f7d9316bf96a5943f319a9152a843d3cbc28d158"
   }
  }
 },
 "nbformat": 4,
 "nbformat_minor": 2
}
