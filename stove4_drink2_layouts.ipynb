{
 "cells": [
  {
   "cell_type": "code",
   "execution_count": 26,
   "metadata": {},
   "outputs": [],
   "source": [
    "import pandas as pd\n",
    "import numpy as np\n",
    "import matplotlib.pyplot as plt\n",
    "from helpers.layouts import get_all_count, max_area_distance, max_stove2table_distance, avg_stock2table_distance, add_to_counter, get_max_counter, max_drink2table_distance, avg_drink2table_distance\n",
    "from layouts.stove4_drink2_layouts import all_setup\n"
   ]
  },
  {
   "cell_type": "code",
   "execution_count": 27,
   "metadata": {},
   "outputs": [
    {
     "name": "stdout",
     "output_type": "stream",
     "text": [
      "(4, 16, 2, 10)\n",
      "3.0\n",
      "5.0\n",
      "3.4594361206796567\n",
      "4.47213595499958\n",
      "3.500943795572951\n"
     ]
    }
   ],
   "source": [
    "print(get_all_count(all_setup[0]))\n",
    "print(max_area_distance(all_setup[0]))\n",
    "print(max_stove2table_distance(all_setup[0]))\n",
    "print(avg_stock2table_distance(all_setup[0]))\n",
    "print(max_drink2table_distance(all_setup[0]))\n",
    "print(avg_drink2table_distance(all_setup[0]))\n"
   ]
  },
  {
   "cell_type": "code",
   "execution_count": 28,
   "metadata": {},
   "outputs": [],
   "source": [
    "all_max_area_distance = []\n",
    "all_max_stove2table_distance = []\n",
    "all_avg_stock2table_distance = []\n",
    "all_max_drink2table_distance = []\n",
    "all_avg_drink2table_distance = []\n",
    "all_table = []\n",
    "\n",
    "for setup in all_setup:\n",
    "    all_max_area_distance.append(max_area_distance(setup))\n",
    "    all_max_stove2table_distance.append(max_stove2table_distance(setup))\n",
    "    all_avg_stock2table_distance.append(avg_stock2table_distance(setup))\n",
    "    all_max_drink2table_distance.append(max_drink2table_distance(setup))\n",
    "    all_avg_drink2table_distance.append(avg_drink2table_distance(setup))\n",
    "    all_table.append(get_all_count(setup)[1])\n"
   ]
  },
  {
   "cell_type": "code",
   "execution_count": 29,
   "metadata": {},
   "outputs": [
    {
     "name": "stdout",
     "output_type": "stream",
     "text": [
      "[3.0, 3.0]\n",
      "[5.0, 5.0]\n",
      "[3.4594361206796567, 4.291070117129244]\n",
      "[4.47213595499958, 6.4031242374328485]\n",
      "[3.500943795572951, 4.734140035341059]\n",
      "[16, 22]\n"
     ]
    }
   ],
   "source": [
    "print(all_max_area_distance)\n",
    "print(all_max_stove2table_distance)\n",
    "print(all_avg_stock2table_distance)\n",
    "print(all_max_drink2table_distance)\n",
    "print(all_avg_drink2table_distance)\n",
    "print(all_table)\n"
   ]
  },
  {
   "cell_type": "code",
   "execution_count": 30,
   "metadata": {},
   "outputs": [
    {
     "name": "stdout",
     "output_type": "stream",
     "text": [
      "Min Max area distance winner: 0\n",
      "Min Max stove2table distance winner: 0\n",
      "Min Avg stock2table distance winner: 0\n",
      "Min Max drink2table distance winner: 0\n",
      "Min Avg drink2table distance winner: 0\n",
      "Max table winner: 1\n",
      "Counter: {0: 5, 1: 1}\n"
     ]
    }
   ],
   "source": [
    "counter = {}\n",
    "\n",
    "max_area_distance_winner = np.argmin(all_max_area_distance)\n",
    "add_to_counter(counter, max_area_distance_winner)\n",
    "print(f'Min Max area distance winner: {max_area_distance_winner}')\n",
    "\n",
    "max_stove2table_distance_winner = np.argmin(all_max_stove2table_distance)\n",
    "add_to_counter(counter, max_stove2table_distance_winner)\n",
    "print(f'Min Max stove2table distance winner: {max_stove2table_distance_winner}')\n",
    "\n",
    "avg_stock2table_distance_winner = np.argmin(all_avg_stock2table_distance)\n",
    "add_to_counter(counter, avg_stock2table_distance_winner)\n",
    "print(f'Min Avg stock2table distance winner: {avg_stock2table_distance_winner}')\n",
    "\n",
    "max_drink2table_distance_winner = np.argmin(all_max_drink2table_distance)\n",
    "add_to_counter(counter, max_drink2table_distance_winner)\n",
    "print(f'Min Max drink2table distance winner: {max_drink2table_distance_winner}')\n",
    "\n",
    "avg_drink2table_distance_winner = np.argmin(all_avg_drink2table_distance)\n",
    "add_to_counter(counter, avg_drink2table_distance_winner)\n",
    "print(f'Min Avg drink2table distance winner: {avg_drink2table_distance_winner}')\n",
    "\n",
    "all_table_winner = np.argmax(all_table)\n",
    "add_to_counter(counter, all_table_winner)\n",
    "print(f'Max table winner: {all_table_winner}')\n",
    "\n",
    "print(f'Counter: {counter}')\n"
   ]
  },
  {
   "cell_type": "code",
   "execution_count": 31,
   "metadata": {},
   "outputs": [
    {
     "name": "stdout",
     "output_type": "stream",
     "text": [
      "Max winner: 0\n",
      "Winner: \n",
      "[['T' 'T' ' ' 'T' 'T' 'T']\n",
      " ['T' 'A' 'S' 'D' 'A' 'T']\n",
      " ['T' 'A' 'A' 'A' 'S' ' ']\n",
      " [' ' 'S' 'A' 'A' 'A' 'T']\n",
      " ['T' 'A' 'D' 'S' 'A' 'T']\n",
      " ['T' 'T' 'T' ' ' 'T' 'T']]\n",
      "Winner table: 16\n",
      "Winner max area distance: 3.0\n",
      "Winner max stove2table distance: 5.0\n",
      "Winner avg stock2table distance: 3.4594361206796567\n",
      "Winner max drink2table distance: 4.47213595499958\n",
      "Winner avg drink2table distance: 3.500943795572951\n"
     ]
    }
   ],
   "source": [
    "max_counter = get_max_counter(counter)\n",
    "print(f'Max winner: {max_counter}')\n",
    "print(f'Winner: \\n{np.matrix(all_setup[max_counter])}')\n",
    "print(f'Winner table: {all_table[max_counter]}')\n",
    "print(f'Winner max area distance: {all_max_area_distance[max_counter]}')\n",
    "print(f'Winner max stove2table distance: {all_max_stove2table_distance[max_counter]}')\n",
    "print(f'Winner avg stock2table distance: {all_avg_stock2table_distance[max_counter]}')\n",
    "print(f'Winner max drink2table distance: {all_max_drink2table_distance[max_counter]}')\n",
    "print(f'Winner avg drink2table distance: {all_avg_drink2table_distance[max_counter]}')\n"
   ]
  },
  {
   "cell_type": "code",
   "execution_count": null,
   "metadata": {},
   "outputs": [],
   "source": []
  }
 ],
 "metadata": {
  "kernelspec": {
   "display_name": "Python 3.9.9 ('venv': venv)",
   "language": "python",
   "name": "python3"
  },
  "language_info": {
   "codemirror_mode": {
    "name": "ipython",
    "version": 3
   },
   "file_extension": ".py",
   "mimetype": "text/x-python",
   "name": "python",
   "nbconvert_exporter": "python",
   "pygments_lexer": "ipython3",
   "version": "3.9.9"
  },
  "orig_nbformat": 4,
  "vscode": {
   "interpreter": {
    "hash": "b4d61477c7b3c1746d518ce1f7d9316bf96a5943f319a9152a843d3cbc28d158"
   }
  }
 },
 "nbformat": 4,
 "nbformat_minor": 2
}
