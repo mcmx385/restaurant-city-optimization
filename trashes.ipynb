{
 "cells": [
  {
   "cell_type": "code",
   "execution_count": 1,
   "metadata": {},
   "outputs": [],
   "source": [
    "import cv2 as cv\n",
    "import numpy as np\n",
    "import matplotlib.pyplot as plt\n"
   ]
  },
  {
   "cell_type": "code",
   "execution_count": 2,
   "metadata": {},
   "outputs": [],
   "source": [
    "# core_list = ['apple', 'banana', 'drink', 'drumstick', 'fish', 'pizza']\n",
    "core_list = ['apple_full', 'banana', 'drink_full', 'drumstick_full', 'fish_full', 'pizza_full']\n",
    "\n",
    "extra_list = []\n",
    "extra_list = ['apple_top', 'apple_bottom', 'apple3', 'apple4', 'fish2', 'pizza2']\n",
    "\n",
    "final_list = core_list + extra_list\n"
   ]
  },
  {
   "cell_type": "code",
   "execution_count": 3,
   "metadata": {},
   "outputs": [],
   "source": [
    "for img_no in range(8, 11+1):\n",
    "\n",
    "    img_rgb = cv.imread(f'./trashes/normalized/{img_no}.png')\n",
    "    img_gray = cv.cvtColor(img_rgb, cv.COLOR_BGR2GRAY)\n",
    "\n",
    "    for item in final_list:\n",
    "        template = cv.imread(f'./trashes/templates/{item}.png', 0)\n",
    "        w, h = template.shape[::-1]\n",
    "        res = cv.matchTemplate(img_gray, template, cv.TM_CCOEFF_NORMED)\n",
    "        threshold = 0.8\n",
    "        loc = np.where(res >= threshold)\n",
    "        for pt in zip(*loc[::-1]):\n",
    "            cv.rectangle(img_rgb, pt, (pt[0] + w, pt[1] + h), (0, 0, 255), 2)\n",
    "\n",
    "    cv.imwrite(f'./trashes/detections/res_{img_no}.png', img_rgb)\n"
   ]
  }
 ],
 "metadata": {
  "kernelspec": {
   "display_name": "Python 3.9.9 ('venv': venv)",
   "language": "python",
   "name": "python3"
  },
  "language_info": {
   "codemirror_mode": {
    "name": "ipython",
    "version": 3
   },
   "file_extension": ".py",
   "mimetype": "text/x-python",
   "name": "python",
   "nbconvert_exporter": "python",
   "pygments_lexer": "ipython3",
   "version": "3.9.9"
  },
  "orig_nbformat": 4,
  "vscode": {
   "interpreter": {
    "hash": "b4d61477c7b3c1746d518ce1f7d9316bf96a5943f319a9152a843d3cbc28d158"
   }
  }
 },
 "nbformat": 4,
 "nbformat_minor": 2
}
